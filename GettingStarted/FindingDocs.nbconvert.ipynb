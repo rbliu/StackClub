{
 "cells": [
  {
   "cell_type": "markdown",
   "metadata": {},
   "source": [
    "# How to Find DM Stack Documentation\n",
    "\n",
    "<br>Owner(s): **Phil Marshall** ([@drphilmarshall](https://github.com/LSSTScienceCollaborations/StackClub/issues/new?body=@drphilmarshall))\n",
    "<br>Last Verified to Run: **2018-08-05**\n",
    "<br>Verified Stack Release: **16.0**\n",
    "\n",
    "### Learning Objectives:\n",
    "\n",
    "In this notebook we will look at a few different ways to find the documentation on a given DM Stack function or class. \n",
    "After working through this tutorial you should be able to: \n",
    "1. Use the jupyter notebook built-in functions to read the docstrings of Stack classes and functions \n",
    "2. Use the `whereis` Stack Club utility to locate DM Stack web documentation.\n",
    "\n",
    "### Logistics\n",
    "This notebook is intended to be runnable on `lsst-lspdev.ncsa.illinois.edu` from a local git clone of https://github.com/LSSTScienceCollaborations/StackClub.\n",
    "\n",
    "## Set-up"
   ]
  },
  {
   "cell_type": "markdown",
   "metadata": {},
   "source": [
    "We'll need the `stackclub` package to be installed. If you are not developing this package, you can install it using `pip`, like this:\n",
    "```\n",
    "pip install git+git://github.com/LSSTScienceCollaborations/StackClub.git#egg=stackclub\n",
    "```\n",
    "If you are developing the `stackclub` package (eg by adding modules to it to support the Stack Club tutorial that you are writing, you'll need to make a local, editable installation. In the top level folder of the `StackClub` repo, do:"
   ]
  },
  {
   "cell_type": "code",
   "execution_count": 1,
   "metadata": {},
   "outputs": [
    {
     "name": "stdout",
     "output_type": "stream",
     "text": [
      "/home/pjm43/notebooks/.beavis/StackClub/GettingStarted\r\n"
     ]
    }
   ],
   "source": [
    "! cd .. && python setup.py -q develop --user && cd -"
   ]
  },
  {
   "cell_type": "markdown",
   "metadata": {},
   "source": [
    "When editing the `stackclub` package files, we want the latest version to be imported when we re-run the import command. To enable this, we need the %autoreload magic command."
   ]
  },
  {
   "cell_type": "code",
   "execution_count": 2,
   "metadata": {},
   "outputs": [],
   "source": [
    "%load_ext autoreload\n",
    "%autoreload 2"
   ]
  },
  {
   "cell_type": "markdown",
   "metadata": {},
   "source": [
    "## Inline Notebook Help\n",
    "\n",
    "Command line tasks have usage information - try running them with no arguments, or `--help`."
   ]
  },
  {
   "cell_type": "code",
   "execution_count": 3,
   "metadata": {},
   "outputs": [
    {
     "name": "stdout",
     "output_type": "stream",
     "text": [
      "usage: imageDifference.py input [options]\r\n",
      "\r\n",
      "positional arguments:\r\n",
      "  input                 path to input data repository, relative to $PIPE_INPUT_ROOT\r\n",
      "\r\n",
      "optional arguments:\r\n",
      "  -h, --help            show this help message and exit\r\n",
      "  --calib RAWCALIB      path to input calibration repository, relative to $PIPE_CALIB_ROOT\r\n",
      "  --output RAWOUTPUT    path to output data repository (need not exist), relative to\r\n",
      "                        $PIPE_OUTPUT_ROOT\r\n",
      "  --rerun [INPUT:]OUTPUT\r\n",
      "                        rerun name: sets OUTPUT to ROOT/rerun/OUTPUT; optionally sets ROOT to\r\n",
      "                        ROOT/rerun/INPUT\r\n",
      "  -c [NAME=VALUE [NAME=VALUE ...]], --config [NAME=VALUE [NAME=VALUE ...]]\r\n",
      "                        config override(s), e.g. -c foo=newfoo bar.baz=3\r\n",
      "  -C [CONFIGFILE [CONFIGFILE ...]], --configfile [CONFIGFILE [CONFIGFILE ...]]\r\n",
      "                        config override file(s)\r\n",
      "  -L [LEVEL|COMPONENT=LEVEL [LEVEL|COMPONENT=LEVEL ...]], --loglevel [LEVEL|COMPONENT=LEVEL [LEVEL|COMPONENT=LEVEL ...]]\r\n",
      "                        logging level; supported levels are [trace|debug|info|warn|error|fatal]\r\n",
      "  --longlog             use a more verbose format for the logging\r\n",
      "  --debug               enable debugging output?\r\n",
      "  --doraise             raise an exception on error (else log a message and continue)?\r\n",
      "  --noExit              Do not exit even upon failure (i.e. return a struct to the calling script)\r\n",
      "  --profile PROFILE     Dump cProfile statistics to filename\r\n",
      "  --show SHOW [SHOW ...]\r\n",
      "                        display the specified information to stdout and quit (unless run is\r\n",
      "                        specified).\r\n",
      "  -j PROCESSES, --processes PROCESSES\r\n",
      "                        Number of processes to use\r\n",
      "  -t TIMEOUT, --timeout TIMEOUT\r\n",
      "                        Timeout for multiprocessing; maximum wall time (sec)\r\n",
      "  --clobber-output      remove and re-create the output directory if it already exists (safe with\r\n",
      "                        -j, but not all other forms of parallel execution)\r\n",
      "  --clobber-config      backup and then overwrite existing config files instead of checking them\r\n",
      "                        (safe with -j, but not all other forms of parallel execution)\r\n",
      "  --no-backup-config    Don't copy config to file~N backup.\r\n",
      "  --clobber-versions    backup and then overwrite existing package versions instead of checkingthem\r\n",
      "                        (safe with -j, but not all other forms of parallel execution)\r\n",
      "  --no-versions         don't check package versions; useful for development\r\n",
      "  --id [KEY=VALUE1[^VALUE2[^VALUE3...] [KEY=VALUE1[^VALUE2[^VALUE3...] ...]]\r\n",
      "                        data ID, e.g. --id visit=12345 ccd=1,2\r\n",
      "  --templateId [KEY=VALUE1[^VALUE2[^VALUE3...] [KEY=VALUE1[^VALUE2[^VALUE3...] ...]]\r\n",
      "                        Optional template data ID (visit only), e.g. --templateId visit=6789\r\n",
      "\r\n",
      "Notes:\r\n",
      "            * --config, --configfile, --id, --loglevel and @file may appear multiple times;\r\n",
      "                all values are used, in order left to right\r\n",
      "            * @file reads command-line options from the specified file:\r\n",
      "                * data may be distributed among multiple lines (e.g. one option per line)\r\n",
      "                * data after # is treated as a comment and ignored\r\n",
      "                * blank lines and lines starting with # are ignored\r\n",
      "            * To specify multiple values for an option, do not use = after the option name:\r\n",
      "                * right: --configfile foo bar\r\n",
      "                * wrong: --configfile=foo bar\r\n"
     ]
    }
   ],
   "source": [
    "! imageDifference.py --help"
   ]
  },
  {
   "cell_type": "markdown",
   "metadata": {},
   "source": [
    "The pipeline task python code also contains useful docstrings, accessible in various ways:"
   ]
  },
  {
   "cell_type": "code",
   "execution_count": 4,
   "metadata": {},
   "outputs": [],
   "source": [
    "from lsst.pipe.tasks.imageDifference import ImageDifferenceTask"
   ]
  },
  {
   "cell_type": "code",
   "execution_count": 5,
   "metadata": {},
   "outputs": [
    {
     "name": "stdout",
     "output_type": "stream",
     "text": [
      "Help on class ImageDifferenceTask in module lsst.pipe.tasks.imageDifference:\n",
      "\n",
      "class ImageDifferenceTask(lsst.pipe.base.cmdLineTask.CmdLineTask)\n",
      " |  Subtract an image from a template and measure the result\n",
      " |  \n",
      " |  Method resolution order:\n",
      " |      ImageDifferenceTask\n",
      " |      lsst.pipe.base.cmdLineTask.CmdLineTask\n",
      " |      lsst.pipe.base.task.Task\n",
      " |      builtins.object\n",
      " |  \n",
      " |  Methods defined here:\n",
      " |  \n",
      " |  __init__(self, butler=None, **kwargs)\n",
      " |      !Construct an ImageDifference Task\n",
      " |      \n",
      " |      @param[in] butler  Butler object to use in constructing reference object loaders\n",
      " |  \n",
      " |  fitAstrometry(self, templateSources, templateExposure, selectSources)\n",
      " |      Fit the relative astrometry between templateSources and selectSources\n",
      " |      \n",
      " |      @todo remove this method. It originally fit a new WCS to the template before calling register.run\n",
      " |      because our TAN-SIP fitter behaved badly for points far from CRPIX, but that's been fixed.\n",
      " |      It remains because a subtask overrides it.\n",
      " |  \n",
      " |  getSchemaCatalogs(self)\n",
      " |      Return a dict of empty catalogs for each catalog dataset produced by this task.\n",
      " |  \n",
      " |  run(self, sensorRef, templateIdList=None)\n",
      " |      Subtract an image from a template coadd and measure the result\n",
      " |      \n",
      " |      Steps include:\n",
      " |      - warp template coadd to match WCS of image\n",
      " |      - PSF match image to warped template\n",
      " |      - subtract image from PSF-matched, warped template\n",
      " |      - persist difference image\n",
      " |      - detect sources\n",
      " |      - measure sources\n",
      " |      \n",
      " |      @param sensorRef: sensor-level butler data reference, used for the following data products:\n",
      " |      Input only:\n",
      " |      - calexp\n",
      " |      - psf\n",
      " |      - ccdExposureId\n",
      " |      - ccdExposureId_bits\n",
      " |      - self.config.coaddName + \"Coadd_skyMap\"\n",
      " |      - self.config.coaddName + \"Coadd\"\n",
      " |      Input or output, depending on config:\n",
      " |      - self.config.coaddName + \"Diff_subtractedExp\"\n",
      " |      Output, depending on config:\n",
      " |      - self.config.coaddName + \"Diff_matchedExp\"\n",
      " |      - self.config.coaddName + \"Diff_src\"\n",
      " |      \n",
      " |      @return pipe_base Struct containing these fields:\n",
      " |      - subtractedExposure: exposure after subtracting template;\n",
      " |          the unpersisted version if subtraction not run but detection run\n",
      " |          None if neither subtraction nor detection run (i.e. nothing useful done)\n",
      " |      - subtractRes: results of subtraction task; None if subtraction not run\n",
      " |      - sources: detected and possibly measured sources; None if detection not run\n",
      " |  \n",
      " |  runDebug(self, exposure, subtractRes, selectSources, kernelSources, diaSources)\n",
      " |      @todo Test and update for current debug display and slot names\n",
      " |  \n",
      " |  ----------------------------------------------------------------------\n",
      " |  Data and other attributes defined here:\n",
      " |  \n",
      " |  ConfigClass = <class 'lsst.pipe.tasks.imageDifference.ImageDifferenceC...\n",
      " |      Config for ImageDifferenceTask\n",
      " |  \n",
      " |  RunnerClass = <class 'lsst.pipe.tasks.imageDifference.ImageDifferenceT...\n",
      " |      A `TaskRunner` for `CmdLineTask`\\ s that require a ``butler`` keyword argument to be passed to\n",
      " |      their constructor.\n",
      " |  \n",
      " |  ----------------------------------------------------------------------\n",
      " |  Methods inherited from lsst.pipe.base.cmdLineTask.CmdLineTask:\n",
      " |  \n",
      " |  writeConfig(self, butler, clobber=False, doBackup=True)\n",
      " |      Write the configuration used for processing the data, or check that an existing\n",
      " |      one is equal to the new one if present.\n",
      " |      \n",
      " |      Parameters\n",
      " |      ----------\n",
      " |      butler : `lsst.daf.persistence.Butler`\n",
      " |          Data butler used to write the config. The config is written to dataset type\n",
      " |          `CmdLineTask._getConfigName`.\n",
      " |      clobber : `bool`, optional\n",
      " |          A boolean flag that controls what happens if a config already has been saved:\n",
      " |          - `True`: overwrite or rename the existing config, depending on ``doBackup``.\n",
      " |          - `False`: raise `TaskError` if this config does not match the existing config.\n",
      " |      doBackup : bool, optional\n",
      " |          Set to `True` to backup the config files if clobbering.\n",
      " |  \n",
      " |  writeMetadata(self, dataRef)\n",
      " |      Write the metadata produced from processing the data.\n",
      " |      \n",
      " |      Parameters\n",
      " |      ----------\n",
      " |      dataRef\n",
      " |          Butler data reference used to write the metadata.\n",
      " |          The metadata is written to dataset type `CmdLineTask._getMetadataName`.\n",
      " |  \n",
      " |  writePackageVersions(self, butler, clobber=False, doBackup=True, dataset='packages')\n",
      " |      Compare and write package versions.\n",
      " |      \n",
      " |      Parameters\n",
      " |      ----------\n",
      " |      butler : `lsst.daf.persistence.Butler`\n",
      " |          Data butler used to read/write the package versions.\n",
      " |      clobber : `bool`, optional\n",
      " |          A boolean flag that controls what happens if versions already have been saved:\n",
      " |          - `True`: overwrite or rename the existing version info, depending on ``doBackup``.\n",
      " |          - `False`: raise `TaskError` if this version info does not match the existing.\n",
      " |      doBackup : `bool`, optional\n",
      " |          If `True` and clobbering, old package version files are backed up.\n",
      " |      dataset : `str`, optional\n",
      " |          Name of dataset to read/write.\n",
      " |      \n",
      " |      Raises\n",
      " |      ------\n",
      " |      TaskError\n",
      " |          Raised if there is a version mismatch with current and persisted lists of package versions.\n",
      " |      \n",
      " |      Notes\n",
      " |      -----\n",
      " |      Note that this operation is subject to a race condition.\n",
      " |  \n",
      " |  writeSchemas(self, butler, clobber=False, doBackup=True)\n",
      " |      Write the schemas returned by `lsst.pipe.base.Task.getAllSchemaCatalogs`.\n",
      " |      \n",
      " |      Parameters\n",
      " |      ----------\n",
      " |      butler : `lsst.daf.persistence.Butler`\n",
      " |          Data butler used to write the schema. Each schema is written to the dataset type specified as the\n",
      " |          key in the dict returned by `~lsst.pipe.base.Task.getAllSchemaCatalogs`.\n",
      " |      clobber : `bool`, optional\n",
      " |          A boolean flag that controls what happens if a schema already has been saved:\n",
      " |          - `True`: overwrite or rename the existing schema, depending on ``doBackup``.\n",
      " |          - `False`: raise `TaskError` if this schema does not match the existing schema.\n",
      " |      doBackup : `bool`, optional\n",
      " |          Set to `True` to backup the schema files if clobbering.\n",
      " |      \n",
      " |      Notes\n",
      " |      -----\n",
      " |      If ``clobber`` is `False` and an existing schema does not match a current schema,\n",
      " |      then some schemas may have been saved successfully and others may not, and there is no easy way to\n",
      " |      tell which is which.\n",
      " |  \n",
      " |  ----------------------------------------------------------------------\n",
      " |  Class methods inherited from lsst.pipe.base.cmdLineTask.CmdLineTask:\n",
      " |  \n",
      " |  applyOverrides(config) from builtins.type\n",
      " |      A hook to allow a task to change the values of its config *after* the camera-specific\n",
      " |      overrides are loaded but before any command-line overrides are applied.\n",
      " |      \n",
      " |      Parameters\n",
      " |      ----------\n",
      " |      config : instance of task's ``ConfigClass``\n",
      " |          Task configuration.\n",
      " |      \n",
      " |      Notes\n",
      " |      -----\n",
      " |      This is necessary in some cases because the camera-specific overrides may retarget subtasks,\n",
      " |      wiping out changes made in ConfigClass.setDefaults. See LSST Trac ticket #2282 for more discussion.\n",
      " |      \n",
      " |      .. warning::\n",
      " |      \n",
      " |         This is called by CmdLineTask.parseAndRun; other ways of constructing a config will not apply\n",
      " |         these overrides.\n",
      " |  \n",
      " |  parseAndRun(args=None, config=None, log=None, doReturnResults=False) from builtins.type\n",
      " |      Parse an argument list and run the command.\n",
      " |      \n",
      " |      Parameters\n",
      " |      ----------\n",
      " |      args : `list`, optional\n",
      " |          List of command-line arguments; if `None` use `sys.argv`.\n",
      " |      config : `lsst.pex.config.Config`-type, optional\n",
      " |          Config for task. If `None` use `Task.ConfigClass`.\n",
      " |      log : `lsst.log.Log`-type, optional\n",
      " |          Log. If `None` use the default log.\n",
      " |      doReturnResults : `bool`, optional\n",
      " |          If `True`, return the results of this task. Default is `False`. This is only intended for\n",
      " |          unit tests and similar use. It can easily exhaust memory (if the task returns enough data and you\n",
      " |          call it enough times) and it will fail when using multiprocessing if the returned data cannot be\n",
      " |          pickled.\n",
      " |      \n",
      " |      Returns\n",
      " |      -------\n",
      " |      struct : `lsst.pipe.base.Struct`\n",
      " |          Fields are:\n",
      " |      \n",
      " |          - ``argumentParser``: the argument parser.\n",
      " |          - ``parsedCmd``: the parsed command returned by the argument parser's\n",
      " |            `lsst.pipe.base.ArgumentParser.parse_args` method.\n",
      " |          - ``taskRunner``: the task runner used to run the task (an instance of `Task.RunnerClass`).\n",
      " |          - ``resultList``: results returned by the task runner's ``run`` method, one entry per invocation.\n",
      " |              This will typically be a list of `None` unless ``doReturnResults`` is `True`;\n",
      " |              see `Task.RunnerClass` (`TaskRunner` by default) for more information.\n",
      " |      \n",
      " |      Notes\n",
      " |      -----\n",
      " |      Calling this method with no arguments specified is the standard way to run a command-line task\n",
      " |      from the command-line. For an example see ``pipe_tasks`` ``bin/makeSkyMap.py`` or almost any other\n",
      " |      file in that directory.\n",
      " |      \n",
      " |      If one or more of the dataIds fails then this routine will exit (with a status giving the\n",
      " |      number of failed dataIds) rather than returning this struct;  this behaviour can be\n",
      " |      overridden by specifying the ``--noExit`` command-line option.\n",
      " |  \n",
      " |  ----------------------------------------------------------------------\n",
      " |  Data and other attributes inherited from lsst.pipe.base.cmdLineTask.CmdLineTask:\n",
      " |  \n",
      " |  canMultiprocess = True\n",
      " |  \n",
      " |  ----------------------------------------------------------------------\n",
      " |  Methods inherited from lsst.pipe.base.task.Task:\n",
      " |  \n",
      " |  __reduce__(self)\n",
      " |      Pickler.\n",
      " |  \n",
      " |  emptyMetadata(self)\n",
      " |      Empty (clear) the metadata for this Task and all sub-Tasks.\n",
      " |  \n",
      " |  getAllSchemaCatalogs(self)\n",
      " |      Get schema catalogs for all tasks in the hierarchy, combining the results into a single dict.\n",
      " |      \n",
      " |      Returns\n",
      " |      -------\n",
      " |      schemacatalogs : `dict`\n",
      " |          Keys are butler dataset type, values are a empty catalog (an instance of the appropriate\n",
      " |          lsst.afw.table Catalog type) for all tasks in the hierarchy, from the top-level task down\n",
      " |          through all subtasks.\n",
      " |      \n",
      " |      Notes\n",
      " |      -----\n",
      " |      This method may be called on any task in the hierarchy; it will return the same answer, regardless.\n",
      " |      \n",
      " |      The default implementation should always suffice. If your subtask uses schemas the override\n",
      " |      `Task.getSchemaCatalogs`, not this method.\n",
      " |  \n",
      " |  getFullMetadata(self)\n",
      " |      Get metadata for all tasks.\n",
      " |      \n",
      " |      Returns\n",
      " |      -------\n",
      " |      metadata : `lsst.daf.base.PropertySet`\n",
      " |          The `~lsst.daf.base.PropertySet` keys are the full task name. Values are metadata\n",
      " |          for the top-level task and all subtasks, sub-subtasks, etc..\n",
      " |      \n",
      " |      Notes\n",
      " |      -----\n",
      " |      The returned metadata includes timing information (if ``@timer.timeMethod`` is used)\n",
      " |      and any metadata set by the task. The name of each item consists of the full task name\n",
      " |      with ``.`` replaced by ``:``, followed by ``.`` and the name of the item, e.g.::\n",
      " |      \n",
      " |          topLevelTaskName:subtaskName:subsubtaskName.itemName\n",
      " |      \n",
      " |      using ``:`` in the full task name disambiguates the rare situation that a task has a subtask\n",
      " |      and a metadata item with the same name.\n",
      " |  \n",
      " |  getFullName(self)\n",
      " |      Get the task name as a hierarchical name including parent task names.\n",
      " |      \n",
      " |      Returns\n",
      " |      -------\n",
      " |      fullName : `str`\n",
      " |          The full name consists of the name of the parent task and each subtask separated by periods.\n",
      " |          For example:\n",
      " |      \n",
      " |          - The full name of top-level task \"top\" is simply \"top\".\n",
      " |          - The full name of subtask \"sub\" of top-level task \"top\" is \"top.sub\".\n",
      " |          - The full name of subtask \"sub2\" of subtask \"sub\" of top-level task \"top\" is \"top.sub.sub2\".\n",
      " |  \n",
      " |  getName(self)\n",
      " |      Get the name of the task.\n",
      " |      \n",
      " |      Returns\n",
      " |      -------\n",
      " |      taskName : `str`\n",
      " |          Name of the task.\n",
      " |      \n",
      " |      See also\n",
      " |      --------\n",
      " |      getFullName\n",
      " |  \n",
      " |  getTaskDict(self)\n",
      " |      Get a dictionary of all tasks as a shallow copy.\n",
      " |      \n",
      " |      Returns\n",
      " |      -------\n",
      " |      taskDict : `dict`\n",
      " |          Dictionary containing full task name: task object for the top-level task and all subtasks,\n",
      " |          sub-subtasks, etc..\n",
      " |  \n",
      " |  makeSubtask(self, name, **keyArgs)\n",
      " |      Create a subtask as a new instance as the ``name`` attribute of this task.\n",
      " |      \n",
      " |      Parameters\n",
      " |      ----------\n",
      " |      name : `str`\n",
      " |          Brief name of the subtask.\n",
      " |      keyArgs\n",
      " |          Extra keyword arguments used to construct the task. The following arguments are automatically\n",
      " |          provided and cannot be overridden:\n",
      " |      \n",
      " |          - \"config\".\n",
      " |          - \"parentTask\".\n",
      " |      \n",
      " |      Notes\n",
      " |      -----\n",
      " |      The subtask must be defined by ``Task.config.name``, an instance of pex_config ConfigurableField\n",
      " |      or RegistryField.\n",
      " |  \n",
      " |  timer(self, name, logLevel=10000)\n",
      " |      Context manager to log performance data for an arbitrary block of code.\n",
      " |      \n",
      " |      Parameters\n",
      " |      ----------\n",
      " |      name : `str`\n",
      " |          Name of code being timed; data will be logged using item name: ``Start`` and ``End``.\n",
      " |      logLevel\n",
      " |          A `lsst.log` level constant.\n",
      " |      \n",
      " |      Examples\n",
      " |      --------\n",
      " |      Creating a timer context::\n",
      " |      \n",
      " |          with self.timer(\"someCodeToTime\"):\n",
      " |              pass  # code to time\n",
      " |      \n",
      " |      See also\n",
      " |      --------\n",
      " |      timer.logInfo\n",
      " |  \n",
      " |  ----------------------------------------------------------------------\n",
      " |  Class methods inherited from lsst.pipe.base.task.Task:\n",
      " |  \n",
      " |  makeField(doc) from builtins.type\n",
      " |      Make a `lsst.pex.config.ConfigurableField` for this task.\n",
      " |      \n",
      " |      Parameters\n",
      " |      ----------\n",
      " |      doc : `str`\n",
      " |          Help text for the field.\n",
      " |      \n",
      " |      Returns\n",
      " |      -------\n",
      " |      configurableField : `lsst.pex.config.ConfigurableField`\n",
      " |          A `~ConfigurableField` for this task.\n",
      " |      \n",
      " |      Examples\n",
      " |      --------\n",
      " |      Provides a convenient way to specify this task is a subtask of another task.\n",
      " |      \n",
      " |      Here is an example of use::\n",
      " |      \n",
      " |          class OtherTaskConfig(lsst.pex.config.Config)\n",
      " |              aSubtask = ATaskClass.makeField(\"a brief description of what this task does\")\n",
      " |  \n",
      " |  ----------------------------------------------------------------------\n",
      " |  Data descriptors inherited from lsst.pipe.base.task.Task:\n",
      " |  \n",
      " |  __dict__\n",
      " |      dictionary for instance variables (if defined)\n",
      " |  \n",
      " |  __weakref__\n",
      " |      list of weak references to the object (if defined)\n",
      "\n"
     ]
    }
   ],
   "source": [
    "help(ImageDifferenceTask)"
   ]
  },
  {
   "cell_type": "markdown",
   "metadata": {},
   "source": [
    "You can follow up on the methods and attributes listed in the `help()` output, with further `help()` commands:"
   ]
  },
  {
   "cell_type": "code",
   "execution_count": 6,
   "metadata": {},
   "outputs": [
    {
     "name": "stdout",
     "output_type": "stream",
     "text": [
      "Help on function getName in module lsst.pipe.base.task:\n",
      "\n",
      "getName(self)\n",
      "    Get the name of the task.\n",
      "    \n",
      "    Returns\n",
      "    -------\n",
      "    taskName : `str`\n",
      "        Name of the task.\n",
      "    \n",
      "    See also\n",
      "    --------\n",
      "    getFullName\n",
      "\n"
     ]
    }
   ],
   "source": [
    "help(ImageDifferenceTask.getName)"
   ]
  },
  {
   "cell_type": "markdown",
   "metadata": {},
   "source": [
    "The `help()` function mostly prints out the `__doc__` attribute:"
   ]
  },
  {
   "cell_type": "code",
   "execution_count": 7,
   "metadata": {},
   "outputs": [
    {
     "name": "stdout",
     "output_type": "stream",
     "text": [
      "Get the name of the task.\n",
      "\n",
      "        Returns\n",
      "        -------\n",
      "        taskName : `str`\n",
      "            Name of the task.\n",
      "\n",
      "        See also\n",
      "        --------\n",
      "        getFullName\n",
      "        \n"
     ]
    }
   ],
   "source": [
    "print(ImageDifferenceTask.getName.__doc__)"
   ]
  },
  {
   "cell_type": "markdown",
   "metadata": {},
   "source": [
    "The Jupyter/IPython `?` magic command gives a different, condensed view that may sometimes be helpful:"
   ]
  },
  {
   "cell_type": "code",
   "execution_count": 8,
   "metadata": {},
   "outputs": [],
   "source": [
    "? ImageDifferenceTask"
   ]
  },
  {
   "cell_type": "markdown",
   "metadata": {},
   "source": [
    "## Online Resources: Searchable GitHub-hosted Source Code\n",
    "\n",
    "All the DM code is housed in GitHub repositories in the `lsst` organization.\n",
    "It's nice to provide hyperlinks to the code you are demonstrating, so people can quickly go read the source. We can construct the GitHub URL from the module name, using the `stackclub.whereis` utility."
   ]
  },
  {
   "cell_type": "code",
   "execution_count": 9,
   "metadata": {},
   "outputs": [],
   "source": [
    "from stackclub import where_is"
   ]
  },
  {
   "cell_type": "code",
   "execution_count": 10,
   "metadata": {},
   "outputs": [
    {
     "data": {
      "text/markdown": [
       "[lsst.pipe.tasks.imageDifference](https://github.com/lsst/pipe_tasks/blob/master/python/lsst/pipe/tasks/imageDifference.py)"
      ],
      "text/plain": [
       "<IPython.core.display.Markdown object>"
      ]
     },
     "metadata": {},
     "output_type": "display_data"
    },
    {
     "name": "stdout",
     "output_type": "stream",
     "text": [
      "[lsst.pipe.tasks.imageDifference](https://github.com/lsst/pipe_tasks/blob/master/python/lsst/pipe/tasks/imageDifference.py)\n"
     ]
    }
   ],
   "source": [
    "from lsst.pipe.tasks.imageDifference import ImageDifferenceTask\n",
    "where_is(ImageDifferenceTask)"
   ]
  },
  {
   "cell_type": "markdown",
   "metadata": {},
   "source": [
    "By default, `whereis` looks for the named object in the source code on GitHub. You can specify this behavior explitly with the \"`in_the`\" kwarg:"
   ]
  },
  {
   "cell_type": "code",
   "execution_count": 11,
   "metadata": {},
   "outputs": [
    {
     "data": {
      "text/markdown": [
       "[lsst.daf.persistence.butler](https://github.com/lsst/daf_persistence/blob/master/python/lsst/daf/persistence/butler.py)"
      ],
      "text/plain": [
       "<IPython.core.display.Markdown object>"
      ]
     },
     "metadata": {},
     "output_type": "display_data"
    },
    {
     "name": "stdout",
     "output_type": "stream",
     "text": [
      "[lsst.daf.persistence.butler](https://github.com/lsst/daf_persistence/blob/master/python/lsst/daf/persistence/butler.py)\n"
     ]
    }
   ],
   "source": [
    "from lsst.daf.persistence import Butler\n",
    "where_is(Butler.get, in_the='source')"
   ]
  },
  {
   "cell_type": "markdown",
   "metadata": {},
   "source": [
    "> In case you're interested in what the `whereis` function is doing, paste the following into a python cell: \n",
    "```\n",
    "%load ../stackclub/whereis\n",
    "```"
   ]
  },
  {
   "cell_type": "markdown",
   "metadata": {},
   "source": [
    "GitHub search is pretty powerful. Here's an example, using the search string `user:lsst ImageDifferenceTask` and selecting \"Code\" results (in python):\n",
    "\n",
    "https://github.com/search?l=Python&q=user%3Alsst+ImageDifferenceTask&type=Code\n",
    "\n",
    "You can also generate search strings like this one with `where_is`:"
   ]
  },
  {
   "cell_type": "code",
   "execution_count": 12,
   "metadata": {},
   "outputs": [
    {
     "data": {
      "text/markdown": [
       "[searching for `Butler` in the `lsst` repo](https://github.com/search?l=Python&q=user%3Alsst+Butler&type=Code)"
      ],
      "text/plain": [
       "<IPython.core.display.Markdown object>"
      ]
     },
     "metadata": {},
     "output_type": "display_data"
    },
    {
     "name": "stdout",
     "output_type": "stream",
     "text": [
      "[searching for `Butler` in the `lsst` repo](https://github.com/search?l=Python&q=user%3Alsst+Butler&type=Code)\n"
     ]
    }
   ],
   "source": [
    "where_is(Butler, in_the='repo')"
   ]
  },
  {
   "cell_type": "markdown",
   "metadata": {},
   "source": [
    "Finally, here's how to generate a search within the LSST DM technotes:"
   ]
  },
  {
   "cell_type": "code",
   "execution_count": 13,
   "metadata": {},
   "outputs": [
    {
     "data": {
      "text/markdown": [
       "[searching for `ImageDifferenceTask` in the `lsst-dm` technotes](https://github.com/search?l=reStructuredText&q=user%3Alsst-dm+ImageDifferenceTask&type=Code)"
      ],
      "text/plain": [
       "<IPython.core.display.Markdown object>"
      ]
     },
     "metadata": {},
     "output_type": "display_data"
    },
    {
     "name": "stdout",
     "output_type": "stream",
     "text": [
      "[searching for `ImageDifferenceTask` in the `lsst-dm` technotes](https://github.com/search?l=reStructuredText&q=user%3Alsst-dm+ImageDifferenceTask&type=Code)\n"
     ]
    }
   ],
   "source": [
    "where_is(ImageDifferenceTask, in_the='technotes')"
   ]
  },
  {
   "cell_type": "markdown",
   "metadata": {},
   "source": [
    "Here's the `where_is` code, in case you're interested in how the URLs are made (and the markdown display generated). "
   ]
  },
  {
   "cell_type": "code",
   "execution_count": 14,
   "metadata": {},
   "outputs": [],
   "source": [
    "# %load -n where_is"
   ]
  },
  {
   "cell_type": "markdown",
   "metadata": {},
   "source": [
    "## Summary\n",
    "In this tutorial we have explored two general ways to read more about the DM Stack code objects: the built-in notebook `help` and magic '?' commands, and the `stackclub.where_is`  utility for locating the relevant part of the Stack source code. \n",
    "\n",
    "Both of the above methods focus on the python code, which for many purposes will be sufficient. However, to understand the Stack's C++ primitives, we'll need to dig deeper into the DM Stack's [doxygen documentation](http://doxygen.lsst.codes/stack/doxygen/x_masterDoxyDoc/), as linked from https://pipelines.lsst.io. "
   ]
  }
 ],
 "metadata": {
  "kernelspec": {
   "display_name": "LSST",
   "language": "python",
   "name": "lsst"
  },
  "language_info": {
   "codemirror_mode": {
    "name": "ipython",
    "version": 3
   },
   "file_extension": ".py",
   "mimetype": "text/x-python",
   "name": "python",
   "nbconvert_exporter": "python",
   "pygments_lexer": "ipython3",
   "version": "3.6.2"
  }
 },
 "nbformat": 4,
 "nbformat_minor": 2
}
